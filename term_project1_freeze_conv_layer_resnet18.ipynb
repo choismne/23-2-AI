{
 "cells": [
  {
   "cell_type": "code",
   "execution_count": 1,
   "id": "03af322f",
   "metadata": {
    "_cell_guid": "b1076dfc-b9ad-4769-8c92-a6c4dae69d19",
    "_uuid": "8f2839f25d086af736a60e9eeb907d3b93b6e0e5",
    "execution": {
     "iopub.execute_input": "2023-12-13T10:15:05.099766Z",
     "iopub.status.busy": "2023-12-13T10:15:05.099424Z",
     "iopub.status.idle": "2023-12-13T10:15:05.766251Z",
     "shell.execute_reply": "2023-12-13T10:15:05.765350Z"
    },
    "papermill": {
     "duration": 0.678967,
     "end_time": "2023-12-13T10:15:05.768425",
     "exception": false,
     "start_time": "2023-12-13T10:15:05.089458",
     "status": "completed"
    },
    "tags": []
   },
   "outputs": [
    {
     "name": "stdout",
     "output_type": "stream",
     "text": [
      "/kaggle/input/2023-ai-tp1/gyro_x_train_CWT.csv\n",
      "/kaggle/input/2023-ai-tp1/acc_x_test_CWT.csv\n",
      "/kaggle/input/2023-ai-tp1/gyro_x_test_CWT.csv\n",
      "/kaggle/input/2023-ai-tp1/gyro_z_test_CWT.csv\n",
      "/kaggle/input/2023-ai-tp1/gyro_y_test_CWT.csv\n",
      "/kaggle/input/2023-ai-tp1/acc_z_test_CWT.csv\n",
      "/kaggle/input/2023-ai-tp1/acc_x_train_CWT.csv\n",
      "/kaggle/input/2023-ai-tp1/submission_sample.csv\n",
      "/kaggle/input/2023-ai-tp1/gyro_y_train_CWT.csv\n",
      "/kaggle/input/2023-ai-tp1/gyro_z_train_CWT.csv\n",
      "/kaggle/input/2023-ai-tp1/acc_y_test_CWT.csv\n",
      "/kaggle/input/2023-ai-tp1/acc_z_train_CWT.csv\n",
      "/kaggle/input/2023-ai-tp1/acc_y_train_CWT.csv\n",
      "/kaggle/input/2023-ai-tp1/yTrain.csv\n"
     ]
    }
   ],
   "source": [
    "# This Python 3 environment comes with many helpful analytics libraries installed\n",
    "# It is defined by the kaggle/python Docker image: https://github.com/kaggle/docker-python\n",
    "# For example, here's several helpful packages to load\n",
    "\n",
    "import numpy as np # linear algebra\n",
    "import pandas as pd # data processing, CSV file I/O (e.g. pd.read_csv)\n",
    "\n",
    "# Input data files are available in the read-only \"../input/\" directory\n",
    "# For example, running this (by clicking run or pressing Shift+Enter) will list all files under the input directory\n",
    "\n",
    "import os\n",
    "for dirname, _, filenames in os.walk('/kaggle/input'):\n",
    "    for filename in filenames:\n",
    "        print(os.path.join(dirname, filename))\n",
    "\n",
    "# You can write up to 20GB to the current directory (/kaggle/working/) that gets preserved as output when you create a version using \"Save & Run All\" \n",
    "# You can also write temporary files to /kaggle/temp/, but they won't be saved outside of the current session"
   ]
  },
  {
   "cell_type": "code",
   "execution_count": 2,
   "id": "50cbcfbd",
   "metadata": {
    "execution": {
     "iopub.execute_input": "2023-12-13T10:15:05.787086Z",
     "iopub.status.busy": "2023-12-13T10:15:05.786696Z",
     "iopub.status.idle": "2023-12-13T10:15:08.879103Z",
     "shell.execute_reply": "2023-12-13T10:15:08.878292Z"
    },
    "papermill": {
     "duration": 3.10415,
     "end_time": "2023-12-13T10:15:08.881470",
     "exception": false,
     "start_time": "2023-12-13T10:15:05.777320",
     "status": "completed"
    },
    "tags": []
   },
   "outputs": [],
   "source": [
    "# random seed 고정\n",
    "import random\n",
    "import torch\n",
    "seed = 42\n",
    "random.seed(seed)\n",
    "np.random.seed(seed)\n",
    "\n",
    "#  pytorch관련 시드 고정\n",
    "torch.manual_seed(seed)  \n",
    "if torch.cuda.is_available() : \n",
    "   torch.cuda.manual_seed(seed)\n",
    "   torch.cuda.manual_seed_all(seed)\n",
    "torch.backends.cudnn.benchmark = False\n",
    "torch.backends.cudnn.deterministic = True"
   ]
  },
  {
   "cell_type": "code",
   "execution_count": 3,
   "id": "cb577034",
   "metadata": {
    "execution": {
     "iopub.execute_input": "2023-12-13T10:15:08.900113Z",
     "iopub.status.busy": "2023-12-13T10:15:08.899671Z",
     "iopub.status.idle": "2023-12-13T10:16:41.610457Z",
     "shell.execute_reply": "2023-12-13T10:16:41.609448Z"
    },
    "papermill": {
     "duration": 92.722716,
     "end_time": "2023-12-13T10:16:41.612907",
     "exception": false,
     "start_time": "2023-12-13T10:15:08.890191",
     "status": "completed"
    },
    "tags": []
   },
   "outputs": [],
   "source": [
    "# gyro_x_train_CWT = pd.read_csv(\"/kaggle/input/2023-ai-tp1/gyro_x_train_CWT.csv\")\n",
    "acc_x_test_CWT = pd.read_csv(\"/kaggle/input/2023-ai-tp1/acc_x_test_CWT.csv\")\n",
    "# gyro_x_test_CWT = pd.read_csv(\"/kaggle/input/2023-ai-tp1/gyro_x_test_CWT.csv\")\n",
    "# gyro_z_test_CWT = pd.read_csv(\"/kaggle/input/2023-ai-tp1/gyro_z_test_CWT.csv\")\n",
    "# gyro_y_test_CWT = pd.read_csv(\"/kaggle/input/2023-ai-tp1/gyro_y_test_CWT.csv\")\n",
    "acc_z_test_CWT = pd.read_csv(\"/kaggle/input/2023-ai-tp1/acc_z_test_CWT.csv\")\n",
    "acc_x_train_CWT = pd.read_csv(\"/kaggle/input/2023-ai-tp1/acc_x_train_CWT.csv\")\n",
    "submission_sample = pd.read_csv(\"/kaggle/input/2023-ai-tp1/submission_sample.csv\")\n",
    "# gyro_y_train_CWT = pd.read_csv(\"/kaggle/input/2023-ai-tp1/gyro_y_train_CWT.csv\")\n",
    "# gyro_z_train_CWT = pd.read_csv(\"/kaggle/input/2023-ai-tp1/gyro_z_train_CWT.csv\")\n",
    "acc_y_test_CWT = pd.read_csv(\"/kaggle/input/2023-ai-tp1/acc_y_test_CWT.csv\")\n",
    "acc_z_train_CWT = pd.read_csv(\"/kaggle/input/2023-ai-tp1/acc_z_train_CWT.csv\")\n",
    "acc_y_train_CWT = pd.read_csv(\"/kaggle/input/2023-ai-tp1/acc_y_train_CWT.csv\")\n",
    "yTrain = pd.read_csv(\"/kaggle/input/2023-ai-tp1/yTrain.csv\")"
   ]
  },
  {
   "cell_type": "code",
   "execution_count": 4,
   "id": "0b38c5ac",
   "metadata": {
    "execution": {
     "iopub.execute_input": "2023-12-13T10:16:41.631300Z",
     "iopub.status.busy": "2023-12-13T10:16:41.631011Z",
     "iopub.status.idle": "2023-12-13T10:16:41.921736Z",
     "shell.execute_reply": "2023-12-13T10:16:41.920528Z"
    },
    "papermill": {
     "duration": 0.302321,
     "end_time": "2023-12-13T10:16:41.923931",
     "exception": false,
     "start_time": "2023-12-13T10:16:41.621610",
     "status": "completed"
    },
    "tags": []
   },
   "outputs": [
    {
     "name": "stdout",
     "output_type": "stream",
     "text": [
      "torch.Size([7352, 6400])\n",
      "torch.Size([2947, 6400])\n"
     ]
    }
   ],
   "source": [
    "x_train_CWT = torch.from_numpy(np.array(acc_x_train_CWT).astype('float32'))\n",
    "x_test_CWT = torch.from_numpy(np.array(acc_x_test_CWT).astype('float32'))\n",
    "print(x_train_CWT.shape)\n",
    "print(x_test_CWT.shape)"
   ]
  },
  {
   "cell_type": "code",
   "execution_count": 5,
   "id": "6d50800e",
   "metadata": {
    "execution": {
     "iopub.execute_input": "2023-12-13T10:16:41.942491Z",
     "iopub.status.busy": "2023-12-13T10:16:41.942197Z",
     "iopub.status.idle": "2023-12-13T10:16:41.953017Z",
     "shell.execute_reply": "2023-12-13T10:16:41.952121Z"
    },
    "papermill": {
     "duration": 0.022476,
     "end_time": "2023-12-13T10:16:41.955001",
     "exception": false,
     "start_time": "2023-12-13T10:16:41.932525",
     "status": "completed"
    },
    "tags": []
   },
   "outputs": [],
   "source": [
    "x_train_CWT = x_train_CWT.reshape(-1, 50, 128)\n",
    "x_test_CWT = x_test_CWT.reshape(-1, 50, 128)"
   ]
  },
  {
   "cell_type": "code",
   "execution_count": 6,
   "id": "5a0e0d64",
   "metadata": {
    "execution": {
     "iopub.execute_input": "2023-12-13T10:16:41.972947Z",
     "iopub.status.busy": "2023-12-13T10:16:41.972655Z",
     "iopub.status.idle": "2023-12-13T10:16:42.260960Z",
     "shell.execute_reply": "2023-12-13T10:16:42.260149Z"
    },
    "papermill": {
     "duration": 0.299757,
     "end_time": "2023-12-13T10:16:42.263256",
     "exception": false,
     "start_time": "2023-12-13T10:16:41.963499",
     "status": "completed"
    },
    "tags": []
   },
   "outputs": [],
   "source": [
    "y_train_CWT = torch.from_numpy(np.array(acc_y_train_CWT).astype(\"float32\"))\n",
    "y_test_CWT = torch.from_numpy(np.array(acc_y_test_CWT).astype('float32'))\n",
    "y_train_CWT = y_train_CWT.reshape(-1, 50, 128)\n",
    "y_test_CWT = y_test_CWT.reshape(-1, 50, 128)"
   ]
  },
  {
   "cell_type": "code",
   "execution_count": 7,
   "id": "ff6cc3fb",
   "metadata": {
    "execution": {
     "iopub.execute_input": "2023-12-13T10:16:42.281807Z",
     "iopub.status.busy": "2023-12-13T10:16:42.281514Z",
     "iopub.status.idle": "2023-12-13T10:16:42.567749Z",
     "shell.execute_reply": "2023-12-13T10:16:42.566943Z"
    },
    "papermill": {
     "duration": 0.298193,
     "end_time": "2023-12-13T10:16:42.570286",
     "exception": false,
     "start_time": "2023-12-13T10:16:42.272093",
     "status": "completed"
    },
    "tags": []
   },
   "outputs": [],
   "source": [
    "z_train_CWT = torch.from_numpy(np.array(acc_z_train_CWT).astype(\"float32\"))\n",
    "z_test_CWT = torch.from_numpy(np.array(acc_z_test_CWT).astype('float32'))\n",
    "z_train_CWT = z_train_CWT.reshape(-1, 50 ,128)\n",
    "z_test_CWT = z_test_CWT.reshape(-1, 50, 128)"
   ]
  },
  {
   "cell_type": "code",
   "execution_count": 8,
   "id": "1d8ada98",
   "metadata": {
    "execution": {
     "iopub.execute_input": "2023-12-13T10:16:42.588777Z",
     "iopub.status.busy": "2023-12-13T10:16:42.588467Z",
     "iopub.status.idle": "2023-12-13T10:16:43.029020Z",
     "shell.execute_reply": "2023-12-13T10:16:43.027948Z"
    },
    "papermill": {
     "duration": 0.452183,
     "end_time": "2023-12-13T10:16:43.031152",
     "exception": false,
     "start_time": "2023-12-13T10:16:42.578969",
     "status": "completed"
    },
    "tags": []
   },
   "outputs": [
    {
     "name": "stdout",
     "output_type": "stream",
     "text": [
      "torch.Size([3, 7352, 50, 128])\n",
      "torch.Size([3, 2947, 50, 128])\n"
     ]
    }
   ],
   "source": [
    "x_train = torch.stack([x_train_CWT, y_train_CWT, z_train_CWT])\n",
    "x_test = torch.stack([x_test_CWT, y_test_CWT, z_test_CWT])\n",
    "print(x_train.shape)\n",
    "print(x_test.shape)"
   ]
  },
  {
   "cell_type": "code",
   "execution_count": 9,
   "id": "3b4c1df2",
   "metadata": {
    "execution": {
     "iopub.execute_input": "2023-12-13T10:16:43.050464Z",
     "iopub.status.busy": "2023-12-13T10:16:43.050167Z",
     "iopub.status.idle": "2023-12-13T10:16:43.057022Z",
     "shell.execute_reply": "2023-12-13T10:16:43.056181Z"
    },
    "papermill": {
     "duration": 0.018058,
     "end_time": "2023-12-13T10:16:43.058856",
     "exception": false,
     "start_time": "2023-12-13T10:16:43.040798",
     "status": "completed"
    },
    "tags": []
   },
   "outputs": [
    {
     "name": "stdout",
     "output_type": "stream",
     "text": [
      "torch.Size([7352, 3, 50, 128])\n",
      "torch.Size([2947, 3, 50, 128])\n"
     ]
    }
   ],
   "source": [
    "x_train = x_train.permute(1, 0, 2, 3)\n",
    "x_test = x_test.permute(1, 0, 2, 3)\n",
    "print(x_train.shape)\n",
    "print(x_test.shape)"
   ]
  },
  {
   "cell_type": "code",
   "execution_count": 10,
   "id": "f19d73e4",
   "metadata": {
    "execution": {
     "iopub.execute_input": "2023-12-13T10:16:43.076796Z",
     "iopub.status.busy": "2023-12-13T10:16:43.076547Z",
     "iopub.status.idle": "2023-12-13T10:16:43.093015Z",
     "shell.execute_reply": "2023-12-13T10:16:43.092175Z"
    },
    "papermill": {
     "duration": 0.027606,
     "end_time": "2023-12-13T10:16:43.094920",
     "exception": false,
     "start_time": "2023-12-13T10:16:43.067314",
     "status": "completed"
    },
    "tags": []
   },
   "outputs": [
    {
     "data": {
      "text/plain": [
       "torch.Size([7352])"
      ]
     },
     "execution_count": 10,
     "metadata": {},
     "output_type": "execute_result"
    }
   ],
   "source": [
    "y_train = yTrain.drop(['measureID'], axis=1)\n",
    "y_train = torch.from_numpy(np.array(y_train).flatten()-1)\n",
    "y_train.shape"
   ]
  },
  {
   "cell_type": "code",
   "execution_count": 11,
   "id": "ea3881dd",
   "metadata": {
    "execution": {
     "iopub.execute_input": "2023-12-13T10:16:43.113673Z",
     "iopub.status.busy": "2023-12-13T10:16:43.113402Z",
     "iopub.status.idle": "2023-12-13T10:16:43.123087Z",
     "shell.execute_reply": "2023-12-13T10:16:43.122250Z"
    },
    "papermill": {
     "duration": 0.020867,
     "end_time": "2023-12-13T10:16:43.124884",
     "exception": false,
     "start_time": "2023-12-13T10:16:43.104017",
     "status": "completed"
    },
    "tags": []
   },
   "outputs": [
    {
     "data": {
      "text/plain": [
       "array([0, 1, 2, 3, 4, 5])"
      ]
     },
     "execution_count": 11,
     "metadata": {},
     "output_type": "execute_result"
    }
   ],
   "source": [
    "np.unique(y_train)"
   ]
  },
  {
   "cell_type": "code",
   "execution_count": 12,
   "id": "1854deb6",
   "metadata": {
    "execution": {
     "iopub.execute_input": "2023-12-13T10:16:43.144500Z",
     "iopub.status.busy": "2023-12-13T10:16:43.144239Z",
     "iopub.status.idle": "2023-12-13T10:16:47.058296Z",
     "shell.execute_reply": "2023-12-13T10:16:47.057298Z"
    },
    "papermill": {
     "duration": 3.926816,
     "end_time": "2023-12-13T10:16:47.060768",
     "exception": false,
     "start_time": "2023-12-13T10:16:43.133952",
     "status": "completed"
    },
    "tags": []
   },
   "outputs": [],
   "source": [
    "x_train = torch.nn.functional.interpolate(x_train, size=(224,224), mode='bilinear')\n",
    "x_test = torch.nn.functional.interpolate(x_test, size=(224, 224), mode='bilinear')"
   ]
  },
  {
   "cell_type": "code",
   "execution_count": 13,
   "id": "89ad9567",
   "metadata": {
    "execution": {
     "iopub.execute_input": "2023-12-13T10:16:47.080644Z",
     "iopub.status.busy": "2023-12-13T10:16:47.080344Z",
     "iopub.status.idle": "2023-12-13T10:16:47.084894Z",
     "shell.execute_reply": "2023-12-13T10:16:47.084058Z"
    },
    "papermill": {
     "duration": 0.016416,
     "end_time": "2023-12-13T10:16:47.086801",
     "exception": false,
     "start_time": "2023-12-13T10:16:47.070385",
     "status": "completed"
    },
    "tags": []
   },
   "outputs": [
    {
     "name": "stdout",
     "output_type": "stream",
     "text": [
      "torch.Size([7352, 3, 224, 224])\n",
      "torch.Size([2947, 3, 224, 224])\n"
     ]
    }
   ],
   "source": [
    "print(x_train.shape)\n",
    "print(x_test.shape)"
   ]
  },
  {
   "cell_type": "code",
   "execution_count": 14,
   "id": "164c3d6c",
   "metadata": {
    "execution": {
     "iopub.execute_input": "2023-12-13T10:16:47.106075Z",
     "iopub.status.busy": "2023-12-13T10:16:47.105308Z",
     "iopub.status.idle": "2023-12-13T10:16:47.116542Z",
     "shell.execute_reply": "2023-12-13T10:16:47.115714Z"
    },
    "papermill": {
     "duration": 0.022628,
     "end_time": "2023-12-13T10:16:47.118398",
     "exception": false,
     "start_time": "2023-12-13T10:16:47.095770",
     "status": "completed"
    },
    "tags": []
   },
   "outputs": [],
   "source": [
    "from torch.utils.data import DataLoader, TensorDataset, random_split\n",
    "\n",
    "train_dataset = TensorDataset(x_train, y_train)\n",
    "train_set, val_set = random_split(train_dataset, [0.8, 0.2])\n",
    "\n",
    "train_dataloader = DataLoader(train_set, batch_size=32, shuffle=True, drop_last=True)\n",
    "val_dataloader = DataLoader(val_set, batch_size=32, shuffle=True)"
   ]
  },
  {
   "cell_type": "code",
   "execution_count": 15,
   "id": "cf6e40c7",
   "metadata": {
    "execution": {
     "iopub.execute_input": "2023-12-13T10:16:47.137090Z",
     "iopub.status.busy": "2023-12-13T10:16:47.136799Z",
     "iopub.status.idle": "2023-12-13T10:16:47.878732Z",
     "shell.execute_reply": "2023-12-13T10:16:47.877842Z"
    },
    "papermill": {
     "duration": 0.753621,
     "end_time": "2023-12-13T10:16:47.880776",
     "exception": false,
     "start_time": "2023-12-13T10:16:47.127155",
     "status": "completed"
    },
    "tags": []
   },
   "outputs": [
    {
     "name": "stderr",
     "output_type": "stream",
     "text": [
      "/opt/conda/lib/python3.10/site-packages/torchvision/models/_utils.py:208: UserWarning: The parameter 'pretrained' is deprecated since 0.13 and may be removed in the future, please use 'weights' instead.\n",
      "  warnings.warn(\n",
      "/opt/conda/lib/python3.10/site-packages/torchvision/models/_utils.py:223: UserWarning: Arguments other than a weight enum or `None` for 'weights' are deprecated since 0.13 and may be removed in the future. The current behavior is equivalent to passing `weights=ResNet18_Weights.IMAGENET1K_V1`. You can also use `weights=ResNet18_Weights.DEFAULT` to get the most up-to-date weights.\n",
      "  warnings.warn(msg)\n",
      "Downloading: \"https://download.pytorch.org/models/resnet18-f37072fd.pth\" to /root/.cache/torch/hub/checkpoints/resnet18-f37072fd.pth\n",
      "100%|██████████| 44.7M/44.7M [00:00<00:00, 253MB/s]\n"
     ]
    },
    {
     "data": {
      "text/plain": [
       "ResNet(\n",
       "  (conv1): Conv2d(3, 64, kernel_size=(7, 7), stride=(2, 2), padding=(3, 3), bias=False)\n",
       "  (bn1): BatchNorm2d(64, eps=1e-05, momentum=0.1, affine=True, track_running_stats=True)\n",
       "  (relu): ReLU(inplace=True)\n",
       "  (maxpool): MaxPool2d(kernel_size=3, stride=2, padding=1, dilation=1, ceil_mode=False)\n",
       "  (layer1): Sequential(\n",
       "    (0): BasicBlock(\n",
       "      (conv1): Conv2d(64, 64, kernel_size=(3, 3), stride=(1, 1), padding=(1, 1), bias=False)\n",
       "      (bn1): BatchNorm2d(64, eps=1e-05, momentum=0.1, affine=True, track_running_stats=True)\n",
       "      (relu): ReLU(inplace=True)\n",
       "      (conv2): Conv2d(64, 64, kernel_size=(3, 3), stride=(1, 1), padding=(1, 1), bias=False)\n",
       "      (bn2): BatchNorm2d(64, eps=1e-05, momentum=0.1, affine=True, track_running_stats=True)\n",
       "    )\n",
       "    (1): BasicBlock(\n",
       "      (conv1): Conv2d(64, 64, kernel_size=(3, 3), stride=(1, 1), padding=(1, 1), bias=False)\n",
       "      (bn1): BatchNorm2d(64, eps=1e-05, momentum=0.1, affine=True, track_running_stats=True)\n",
       "      (relu): ReLU(inplace=True)\n",
       "      (conv2): Conv2d(64, 64, kernel_size=(3, 3), stride=(1, 1), padding=(1, 1), bias=False)\n",
       "      (bn2): BatchNorm2d(64, eps=1e-05, momentum=0.1, affine=True, track_running_stats=True)\n",
       "    )\n",
       "  )\n",
       "  (layer2): Sequential(\n",
       "    (0): BasicBlock(\n",
       "      (conv1): Conv2d(64, 128, kernel_size=(3, 3), stride=(2, 2), padding=(1, 1), bias=False)\n",
       "      (bn1): BatchNorm2d(128, eps=1e-05, momentum=0.1, affine=True, track_running_stats=True)\n",
       "      (relu): ReLU(inplace=True)\n",
       "      (conv2): Conv2d(128, 128, kernel_size=(3, 3), stride=(1, 1), padding=(1, 1), bias=False)\n",
       "      (bn2): BatchNorm2d(128, eps=1e-05, momentum=0.1, affine=True, track_running_stats=True)\n",
       "      (downsample): Sequential(\n",
       "        (0): Conv2d(64, 128, kernel_size=(1, 1), stride=(2, 2), bias=False)\n",
       "        (1): BatchNorm2d(128, eps=1e-05, momentum=0.1, affine=True, track_running_stats=True)\n",
       "      )\n",
       "    )\n",
       "    (1): BasicBlock(\n",
       "      (conv1): Conv2d(128, 128, kernel_size=(3, 3), stride=(1, 1), padding=(1, 1), bias=False)\n",
       "      (bn1): BatchNorm2d(128, eps=1e-05, momentum=0.1, affine=True, track_running_stats=True)\n",
       "      (relu): ReLU(inplace=True)\n",
       "      (conv2): Conv2d(128, 128, kernel_size=(3, 3), stride=(1, 1), padding=(1, 1), bias=False)\n",
       "      (bn2): BatchNorm2d(128, eps=1e-05, momentum=0.1, affine=True, track_running_stats=True)\n",
       "    )\n",
       "  )\n",
       "  (layer3): Sequential(\n",
       "    (0): BasicBlock(\n",
       "      (conv1): Conv2d(128, 256, kernel_size=(3, 3), stride=(2, 2), padding=(1, 1), bias=False)\n",
       "      (bn1): BatchNorm2d(256, eps=1e-05, momentum=0.1, affine=True, track_running_stats=True)\n",
       "      (relu): ReLU(inplace=True)\n",
       "      (conv2): Conv2d(256, 256, kernel_size=(3, 3), stride=(1, 1), padding=(1, 1), bias=False)\n",
       "      (bn2): BatchNorm2d(256, eps=1e-05, momentum=0.1, affine=True, track_running_stats=True)\n",
       "      (downsample): Sequential(\n",
       "        (0): Conv2d(128, 256, kernel_size=(1, 1), stride=(2, 2), bias=False)\n",
       "        (1): BatchNorm2d(256, eps=1e-05, momentum=0.1, affine=True, track_running_stats=True)\n",
       "      )\n",
       "    )\n",
       "    (1): BasicBlock(\n",
       "      (conv1): Conv2d(256, 256, kernel_size=(3, 3), stride=(1, 1), padding=(1, 1), bias=False)\n",
       "      (bn1): BatchNorm2d(256, eps=1e-05, momentum=0.1, affine=True, track_running_stats=True)\n",
       "      (relu): ReLU(inplace=True)\n",
       "      (conv2): Conv2d(256, 256, kernel_size=(3, 3), stride=(1, 1), padding=(1, 1), bias=False)\n",
       "      (bn2): BatchNorm2d(256, eps=1e-05, momentum=0.1, affine=True, track_running_stats=True)\n",
       "    )\n",
       "  )\n",
       "  (layer4): Sequential(\n",
       "    (0): BasicBlock(\n",
       "      (conv1): Conv2d(256, 512, kernel_size=(3, 3), stride=(2, 2), padding=(1, 1), bias=False)\n",
       "      (bn1): BatchNorm2d(512, eps=1e-05, momentum=0.1, affine=True, track_running_stats=True)\n",
       "      (relu): ReLU(inplace=True)\n",
       "      (conv2): Conv2d(512, 512, kernel_size=(3, 3), stride=(1, 1), padding=(1, 1), bias=False)\n",
       "      (bn2): BatchNorm2d(512, eps=1e-05, momentum=0.1, affine=True, track_running_stats=True)\n",
       "      (downsample): Sequential(\n",
       "        (0): Conv2d(256, 512, kernel_size=(1, 1), stride=(2, 2), bias=False)\n",
       "        (1): BatchNorm2d(512, eps=1e-05, momentum=0.1, affine=True, track_running_stats=True)\n",
       "      )\n",
       "    )\n",
       "    (1): BasicBlock(\n",
       "      (conv1): Conv2d(512, 512, kernel_size=(3, 3), stride=(1, 1), padding=(1, 1), bias=False)\n",
       "      (bn1): BatchNorm2d(512, eps=1e-05, momentum=0.1, affine=True, track_running_stats=True)\n",
       "      (relu): ReLU(inplace=True)\n",
       "      (conv2): Conv2d(512, 512, kernel_size=(3, 3), stride=(1, 1), padding=(1, 1), bias=False)\n",
       "      (bn2): BatchNorm2d(512, eps=1e-05, momentum=0.1, affine=True, track_running_stats=True)\n",
       "    )\n",
       "  )\n",
       "  (avgpool): AdaptiveAvgPool2d(output_size=(1, 1))\n",
       "  (fc): Linear(in_features=512, out_features=1000, bias=True)\n",
       ")"
      ]
     },
     "execution_count": 15,
     "metadata": {},
     "output_type": "execute_result"
    }
   ],
   "source": [
    "from torchvision import models\n",
    "models.resnet18(pretrained=True)"
   ]
  },
  {
   "cell_type": "code",
   "execution_count": 16,
   "id": "19e66b19",
   "metadata": {
    "execution": {
     "iopub.execute_input": "2023-12-13T10:16:47.902579Z",
     "iopub.status.busy": "2023-12-13T10:16:47.901699Z",
     "iopub.status.idle": "2023-12-13T10:16:47.910463Z",
     "shell.execute_reply": "2023-12-13T10:16:47.909647Z"
    },
    "papermill": {
     "duration": 0.021106,
     "end_time": "2023-12-13T10:16:47.912473",
     "exception": false,
     "start_time": "2023-12-13T10:16:47.891367",
     "status": "completed"
    },
    "tags": []
   },
   "outputs": [],
   "source": [
    "from torch import nn\n",
    "\n",
    "#부분 freeze CNN모델\n",
    "class CNN(nn.Module):\n",
    "    def __init__(self, freeze_resnet=False):\n",
    "        super(CNN, self).__init__()\n",
    "        \n",
    "        self.pretrained_resnet = models.resnet18(pretrained=True)\n",
    "        #50프로 확률로 freeze\n",
    "        self.p = 0.7\n",
    "        \n",
    "        if freeze_resnet:\n",
    "            for child in self.pretrained_resnet.children():\n",
    "                for param in child.parameters():\n",
    "                    if torch.rand(1).item() < self.p:\n",
    "                        param.requires_grad = False\n",
    "                    \n",
    "        self.pretrained_resnet.fc = nn.Sequential(\n",
    "            nn.Linear(512, 256),\n",
    "            nn.ReLU(inplace=True),\n",
    "            nn.Linear(256, 128),\n",
    "            nn.ReLU(inplace=True),\n",
    "            nn.Linear(128, 6)\n",
    "            )\n",
    "    def forward(self, input):\n",
    "        return self.pretrained_resnet(input)\n",
    "\n",
    "# class CNN(nn.Module):\n",
    "#     def __init__(self, freeze_resnet=False):\n",
    "#         super(CNN, self).__init__()\n",
    "        \n",
    "#         self.pretrained_resnet = models.resnet18(pretrained=True)\n",
    "        \n",
    "#         if freeze_resnet:\n",
    "#             for child in self.pretrained_resnet.children():\n",
    "#                 for param in child.parameters():\n",
    "#                     param.requires_grad = False\n",
    "                    \n",
    "#         self.pretrained_resnet.fc = nn.Sequential(\n",
    "#             nn.Linear(512, 256),\n",
    "#             nn.ReLU(inplace=True),\n",
    "#             nn.Linear(256, 128),\n",
    "#             nn.ReLU(inplace=True),\n",
    "#             nn.Linear(128, 6)\n",
    "#             )\n",
    "#     def forward(self, input):\n",
    "#         return self.pretrained_resnet(input)"
   ]
  },
  {
   "cell_type": "code",
   "execution_count": 17,
   "id": "d8530537",
   "metadata": {
    "execution": {
     "iopub.execute_input": "2023-12-13T10:16:47.932446Z",
     "iopub.status.busy": "2023-12-13T10:16:47.932198Z",
     "iopub.status.idle": "2023-12-13T10:16:50.618888Z",
     "shell.execute_reply": "2023-12-13T10:16:50.618012Z"
    },
    "papermill": {
     "duration": 2.69929,
     "end_time": "2023-12-13T10:16:50.621217",
     "exception": false,
     "start_time": "2023-12-13T10:16:47.921927",
     "status": "completed"
    },
    "tags": []
   },
   "outputs": [],
   "source": [
    "model = CNN(freeze_resnet=True).cuda()\n",
    "optimizer = torch.optim.Adam(model.parameters(), lr=2e-3)\n",
    "loss_fn = torch.nn.CrossEntropyLoss()"
   ]
  },
  {
   "cell_type": "code",
   "execution_count": 18,
   "id": "62605e7b",
   "metadata": {
    "execution": {
     "iopub.execute_input": "2023-12-13T10:16:50.641756Z",
     "iopub.status.busy": "2023-12-13T10:16:50.641453Z",
     "iopub.status.idle": "2023-12-13T10:16:50.645325Z",
     "shell.execute_reply": "2023-12-13T10:16:50.644615Z"
    },
    "papermill": {
     "duration": 0.016337,
     "end_time": "2023-12-13T10:16:50.647213",
     "exception": false,
     "start_time": "2023-12-13T10:16:50.630876",
     "status": "completed"
    },
    "tags": []
   },
   "outputs": [],
   "source": [
    "from tqdm import tqdm"
   ]
  },
  {
   "cell_type": "code",
   "execution_count": 19,
   "id": "0a16e20d",
   "metadata": {
    "execution": {
     "iopub.execute_input": "2023-12-13T10:16:50.666716Z",
     "iopub.status.busy": "2023-12-13T10:16:50.666477Z",
     "iopub.status.idle": "2023-12-13T10:18:07.203158Z",
     "shell.execute_reply": "2023-12-13T10:18:07.202083Z"
    },
    "papermill": {
     "duration": 76.54873,
     "end_time": "2023-12-13T10:18:07.205201",
     "exception": false,
     "start_time": "2023-12-13T10:16:50.656471",
     "status": "completed"
    },
    "tags": []
   },
   "outputs": [
    {
     "name": "stderr",
     "output_type": "stream",
     "text": [
      "100%|██████████| 183/183 [00:18<00:00,  9.94it/s]\n"
     ]
    },
    {
     "name": "stdout",
     "output_type": "stream",
     "text": [
      "train_acc : tensor(0.7384, device='cuda:0') , val_acc : tensor(0.8327, device='cuda:0')\n"
     ]
    },
    {
     "name": "stderr",
     "output_type": "stream",
     "text": [
      "100%|██████████| 183/183 [00:13<00:00, 13.62it/s]\n"
     ]
    },
    {
     "name": "stdout",
     "output_type": "stream",
     "text": [
      "train_acc : tensor(0.8337, device='cuda:0') , val_acc : tensor(0.8769, device='cuda:0')\n"
     ]
    },
    {
     "name": "stderr",
     "output_type": "stream",
     "text": [
      "100%|██████████| 183/183 [00:13<00:00, 13.63it/s]\n"
     ]
    },
    {
     "name": "stdout",
     "output_type": "stream",
     "text": [
      "train_acc : tensor(0.8698, device='cuda:0') , val_acc : tensor(0.8687, device='cuda:0')\n"
     ]
    },
    {
     "name": "stderr",
     "output_type": "stream",
     "text": [
      "100%|██████████| 183/183 [00:13<00:00, 13.64it/s]\n"
     ]
    },
    {
     "name": "stdout",
     "output_type": "stream",
     "text": [
      "train_acc : tensor(0.8730, device='cuda:0') , val_acc : tensor(0.8143, device='cuda:0')\n"
     ]
    },
    {
     "name": "stderr",
     "output_type": "stream",
     "text": [
      "100%|██████████| 183/183 [00:13<00:00, 13.64it/s]\n"
     ]
    },
    {
     "name": "stdout",
     "output_type": "stream",
     "text": [
      "train_acc : tensor(0.8818, device='cuda:0') , val_acc : tensor(0.8803, device='cuda:0')\n"
     ]
    }
   ],
   "source": [
    "epochs = 5\n",
    "for epoch in range(epochs):\n",
    "    model.train()\n",
    "    train_acc=0\n",
    "    for x, y in tqdm(train_dataloader):\n",
    "        x = x.cuda()\n",
    "        y = y.cuda()\n",
    "        \n",
    "        pred = model(x)\n",
    "        loss = loss_fn(pred, y)\n",
    "        \n",
    "        optimizer.zero_grad()\n",
    "        loss.backward()\n",
    "        optimizer.step()\n",
    "        \n",
    "        train_acc += (torch.argmax(pred, dim=1)==y).sum()\n",
    "        \n",
    "    with torch.no_grad():\n",
    "        model.eval()\n",
    "        val_acc=0\n",
    "        for x, y in val_dataloader:\n",
    "            x = x.cuda()\n",
    "            y = y.cuda()\n",
    "\n",
    "            pred = model(x)\n",
    "            loss = loss_fn(pred, y)\n",
    "\n",
    "            val_acc += (torch.argmax(pred, dim=1)==y).sum()\n",
    "\n",
    "    print('train_acc :', train_acc/len(train_dataloader.dataset), \", val_acc :\", val_acc/len(val_dataloader.dataset))"
   ]
  },
  {
   "cell_type": "code",
   "execution_count": 20,
   "id": "583582d2",
   "metadata": {
    "execution": {
     "iopub.execute_input": "2023-12-13T10:18:07.340200Z",
     "iopub.status.busy": "2023-12-13T10:18:07.339809Z",
     "iopub.status.idle": "2023-12-13T10:18:07.344778Z",
     "shell.execute_reply": "2023-12-13T10:18:07.344014Z"
    },
    "papermill": {
     "duration": 0.053621,
     "end_time": "2023-12-13T10:18:07.346744",
     "exception": false,
     "start_time": "2023-12-13T10:18:07.293123",
     "status": "completed"
    },
    "tags": []
   },
   "outputs": [],
   "source": [
    "full_train_dataloader = DataLoader(train_dataset, batch_size=32, shuffle=True, drop_last=True)\n",
    "\n",
    "test_dataloader = DataLoader(x_test, batch_size=1, shuffle=False)"
   ]
  },
  {
   "cell_type": "code",
   "execution_count": 21,
   "id": "bca0489f",
   "metadata": {
    "execution": {
     "iopub.execute_input": "2023-12-13T10:18:07.440766Z",
     "iopub.status.busy": "2023-12-13T10:18:07.440096Z",
     "iopub.status.idle": "2023-12-13T10:18:07.649176Z",
     "shell.execute_reply": "2023-12-13T10:18:07.648366Z"
    },
    "papermill": {
     "duration": 0.25823,
     "end_time": "2023-12-13T10:18:07.651479",
     "exception": false,
     "start_time": "2023-12-13T10:18:07.393249",
     "status": "completed"
    },
    "tags": []
   },
   "outputs": [],
   "source": [
    "model = CNN(freeze_resnet=True).cuda()\n",
    "optimizer = torch.optim.Adam(model.parameters(), lr=1e-3)\n",
    "loss_fn = torch.nn.CrossEntropyLoss()"
   ]
  },
  {
   "cell_type": "code",
   "execution_count": 22,
   "id": "976bd1b1",
   "metadata": {
    "execution": {
     "iopub.execute_input": "2023-12-13T10:18:07.743443Z",
     "iopub.status.busy": "2023-12-13T10:18:07.743109Z",
     "iopub.status.idle": "2023-12-13T10:19:35.126991Z",
     "shell.execute_reply": "2023-12-13T10:19:35.125951Z"
    },
    "papermill": {
     "duration": 87.431694,
     "end_time": "2023-12-13T10:19:35.129000",
     "exception": false,
     "start_time": "2023-12-13T10:18:07.697306",
     "status": "completed"
    },
    "tags": []
   },
   "outputs": [
    {
     "name": "stderr",
     "output_type": "stream",
     "text": [
      "100%|██████████| 229/229 [00:17<00:00, 13.12it/s]\n"
     ]
    },
    {
     "name": "stdout",
     "output_type": "stream",
     "text": [
      "tensor(0.7678, device='cuda:0') tensor(0.3782, device='cuda:0', grad_fn=<NllLossBackward0>)\n"
     ]
    },
    {
     "name": "stderr",
     "output_type": "stream",
     "text": [
      "100%|██████████| 229/229 [00:17<00:00, 13.07it/s]\n"
     ]
    },
    {
     "name": "stdout",
     "output_type": "stream",
     "text": [
      "tensor(0.8479, device='cuda:0') tensor(0.5378, device='cuda:0', grad_fn=<NllLossBackward0>)\n"
     ]
    },
    {
     "name": "stderr",
     "output_type": "stream",
     "text": [
      "100%|██████████| 229/229 [00:17<00:00, 13.14it/s]\n"
     ]
    },
    {
     "name": "stdout",
     "output_type": "stream",
     "text": [
      "tensor(0.8667, device='cuda:0') tensor(0.2835, device='cuda:0', grad_fn=<NllLossBackward0>)\n"
     ]
    },
    {
     "name": "stderr",
     "output_type": "stream",
     "text": [
      "100%|██████████| 229/229 [00:17<00:00, 13.10it/s]\n"
     ]
    },
    {
     "name": "stdout",
     "output_type": "stream",
     "text": [
      "tensor(0.8712, device='cuda:0') tensor(0.1959, device='cuda:0', grad_fn=<NllLossBackward0>)\n"
     ]
    },
    {
     "name": "stderr",
     "output_type": "stream",
     "text": [
      "100%|██████████| 229/229 [00:17<00:00, 13.11it/s]"
     ]
    },
    {
     "name": "stdout",
     "output_type": "stream",
     "text": [
      "tensor(0.8938, device='cuda:0') tensor(0.2728, device='cuda:0', grad_fn=<NllLossBackward0>)\n"
     ]
    },
    {
     "name": "stderr",
     "output_type": "stream",
     "text": [
      "\n"
     ]
    }
   ],
   "source": [
    "epochs = 5\n",
    "train_acc_log = []\n",
    "train_loss_log = []\n",
    "for epoch in range(epochs):\n",
    "    model.train()\n",
    "    train_acc=0\n",
    "    train_loss=0\n",
    "    for x, y in tqdm(full_train_dataloader):\n",
    "        x = x.cuda()\n",
    "        y = y.cuda()\n",
    "        \n",
    "        pred = model(x)\n",
    "        loss = loss_fn(pred, y)\n",
    "        \n",
    "        optimizer.zero_grad()\n",
    "        loss.backward()\n",
    "        optimizer.step()\n",
    "        \n",
    "        train_acc += (torch.argmax(pred, dim=1)==y).sum()\n",
    "        train_loss += loss.item()\n",
    "        \n",
    "    ta = train_acc/len(full_train_dataloader.dataset)\n",
    "    print(ta, loss)\n",
    "        \n",
    "    train_acc_log.append(ta)\n",
    "    train_loss_log.append(loss)"
   ]
  },
  {
   "cell_type": "code",
   "execution_count": 23,
   "id": "4616d01c",
   "metadata": {
    "execution": {
     "iopub.execute_input": "2023-12-13T10:19:35.310234Z",
     "iopub.status.busy": "2023-12-13T10:19:35.309855Z",
     "iopub.status.idle": "2023-12-13T10:19:35.315977Z",
     "shell.execute_reply": "2023-12-13T10:19:35.315282Z"
    },
    "papermill": {
     "duration": 0.098257,
     "end_time": "2023-12-13T10:19:35.317839",
     "exception": false,
     "start_time": "2023-12-13T10:19:35.219582",
     "status": "completed"
    },
    "tags": []
   },
   "outputs": [],
   "source": [
    "for i in range(len(train_acc_log)):\n",
    "    train_acc_log[i] = train_acc_log[i].cpu().detach().numpy()\n",
    "    train_loss_log[i] = train_loss_log[i].cpu().detach().numpy()"
   ]
  },
  {
   "cell_type": "code",
   "execution_count": 24,
   "id": "e395d3d9",
   "metadata": {
    "execution": {
     "iopub.execute_input": "2023-12-13T10:19:35.497861Z",
     "iopub.status.busy": "2023-12-13T10:19:35.497551Z",
     "iopub.status.idle": "2023-12-13T10:19:35.756649Z",
     "shell.execute_reply": "2023-12-13T10:19:35.755182Z"
    },
    "papermill": {
     "duration": 0.354412,
     "end_time": "2023-12-13T10:19:35.761891",
     "exception": false,
     "start_time": "2023-12-13T10:19:35.407479",
     "status": "completed"
    },
    "tags": []
   },
   "outputs": [
    {
     "data": {
      "image/png": "[encoded data removed]",
      "text/plain": [
       "<Figure size 640x480 with 1 Axes>"
      ]
     },
     "metadata": {},
     "output_type": "display_data"
    }
   ],
   "source": [
    "import matplotlib.pyplot as plt \n",
    "\n",
    "plt.plot([1, 2, 3, 4, 5], train_acc_log, c = 'red')\n",
    "plt.bar([1, 2, 3, 4, 5], train_acc_log, width=0.5)\n",
    "plt.yticks(np.arange(0, 1, 0.1))\n",
    "plt.xticks(np.arange(0, 11, 1))\n",
    "plt.xlabel('epoch')\n",
    "plt.ylabel('accuracy')\n",
    "plt.show()"
   ]
  },
  {
   "cell_type": "code",
   "execution_count": 25,
   "id": "40b712e3",
   "metadata": {
    "execution": {
     "iopub.execute_input": "2023-12-13T10:19:35.951405Z",
     "iopub.status.busy": "2023-12-13T10:19:35.951091Z",
     "iopub.status.idle": "2023-12-13T10:19:36.190024Z",
     "shell.execute_reply": "2023-12-13T10:19:36.188960Z"
    },
    "papermill": {
     "duration": 0.33339,
     "end_time": "2023-12-13T10:19:36.193671",
     "exception": false,
     "start_time": "2023-12-13T10:19:35.860281",
     "status": "completed"
    },
    "tags": []
   },
   "outputs": [
    {
     "data": {
      "image/png": "[encoded data removed]",
      "text/plain": [
       "<Figure size 640x480 with 1 Axes>"
      ]
     },
     "metadata": {},
     "output_type": "display_data"
    }
   ],
   "source": [
    "plt.plot([1, 2, 3, 4, 5], train_loss_log, c = 'red')\n",
    "plt.bar([1, 2, 3, 4, 5], train_loss_log, width=0.5)\n",
    "plt.yticks(np.arange(0, 1, 0.1))\n",
    "plt.xticks(np.arange(0, 11, 1))\n",
    "plt.xlabel('epoch')\n",
    "plt.ylabel('loss')\n",
    "plt.show()"
   ]
  },
  {
   "cell_type": "code",
   "execution_count": 26,
   "id": "26818b09",
   "metadata": {
    "execution": {
     "iopub.execute_input": "2023-12-13T10:19:36.395586Z",
     "iopub.status.busy": "2023-12-13T10:19:36.394965Z",
     "iopub.status.idle": "2023-12-13T10:19:45.627882Z",
     "shell.execute_reply": "2023-12-13T10:19:45.626960Z"
    },
    "papermill": {
     "duration": 9.327029,
     "end_time": "2023-12-13T10:19:45.629840",
     "exception": false,
     "start_time": "2023-12-13T10:19:36.302811",
     "status": "completed"
    },
    "tags": []
   },
   "outputs": [
    {
     "name": "stderr",
     "output_type": "stream",
     "text": [
      "100%|██████████| 2947/2947 [00:09<00:00, 319.49it/s]\n"
     ]
    }
   ],
   "source": [
    "model.eval()\n",
    "final_result=[]\n",
    "with torch.no_grad():\n",
    "    for x in tqdm(test_dataloader):\n",
    "        x = x.cuda()\n",
    "        pred = model(x)\n",
    "        \n",
    "        final_result.append((torch.argmax(pred, dim=1)).item())"
   ]
  },
  {
   "cell_type": "code",
   "execution_count": 27,
   "id": "91f32fc5",
   "metadata": {
    "execution": {
     "iopub.execute_input": "2023-12-13T10:19:45.834290Z",
     "iopub.status.busy": "2023-12-13T10:19:45.833863Z",
     "iopub.status.idle": "2023-12-13T10:19:45.839810Z",
     "shell.execute_reply": "2023-12-13T10:19:45.838953Z"
    },
    "papermill": {
     "duration": 0.11246,
     "end_time": "2023-12-13T10:19:45.841668",
     "exception": false,
     "start_time": "2023-12-13T10:19:45.729208",
     "status": "completed"
    },
    "tags": []
   },
   "outputs": [],
   "source": [
    "submission_sample['label'] = final_result"
   ]
  },
  {
   "cell_type": "code",
   "execution_count": 28,
   "id": "2cc70202",
   "metadata": {
    "execution": {
     "iopub.execute_input": "2023-12-13T10:19:46.041411Z",
     "iopub.status.busy": "2023-12-13T10:19:46.040610Z",
     "iopub.status.idle": "2023-12-13T10:19:46.045712Z",
     "shell.execute_reply": "2023-12-13T10:19:46.044826Z"
    },
    "papermill": {
     "duration": 0.106823,
     "end_time": "2023-12-13T10:19:46.047559",
     "exception": false,
     "start_time": "2023-12-13T10:19:45.940736",
     "status": "completed"
    },
    "tags": []
   },
   "outputs": [],
   "source": [
    "submission_sample['label'] = submission_sample['label']+1"
   ]
  },
  {
   "cell_type": "code",
   "execution_count": 29,
   "id": "8141540e",
   "metadata": {
    "execution": {
     "iopub.execute_input": "2023-12-13T10:19:46.245604Z",
     "iopub.status.busy": "2023-12-13T10:19:46.245250Z",
     "iopub.status.idle": "2023-12-13T10:19:46.252060Z",
     "shell.execute_reply": "2023-12-13T10:19:46.251137Z"
    },
    "papermill": {
     "duration": 0.108602,
     "end_time": "2023-12-13T10:19:46.254146",
     "exception": false,
     "start_time": "2023-12-13T10:19:46.145544",
     "status": "completed"
    },
    "tags": []
   },
   "outputs": [
    {
     "data": {
      "text/plain": [
       "array([1, 2, 3, 4, 5, 6])"
      ]
     },
     "execution_count": 29,
     "metadata": {},
     "output_type": "execute_result"
    }
   ],
   "source": [
    "submission_sample\n",
    "np.unique(submission_sample['label'])"
   ]
  },
  {
   "cell_type": "code",
   "execution_count": 30,
   "id": "e7e997d6",
   "metadata": {
    "execution": {
     "iopub.execute_input": "2023-12-13T10:19:46.454770Z",
     "iopub.status.busy": "2023-12-13T10:19:46.454154Z",
     "iopub.status.idle": "2023-12-13T10:19:46.465929Z",
     "shell.execute_reply": "2023-12-13T10:19:46.465216Z"
    },
    "papermill": {
     "duration": 0.113387,
     "end_time": "2023-12-13T10:19:46.467825",
     "exception": false,
     "start_time": "2023-12-13T10:19:46.354438",
     "status": "completed"
    },
    "tags": []
   },
   "outputs": [],
   "source": [
    "submission_sample.to_csv(\"tp1_submission.csv\", index=False)"
   ]
  },
  {
   "cell_type": "code",
   "execution_count": null,
   "id": "2a946b33",
   "metadata": {
    "papermill": {
     "duration": 0.098042,
     "end_time": "2023-12-13T10:19:46.664419",
     "exception": false,
     "start_time": "2023-12-13T10:19:46.566377",
     "status": "completed"
    },
    "tags": []
   },
   "outputs": [],
   "source": []
  }
 ],
 "metadata": {
  "kaggle": {
   "accelerator": "gpu",
   "dataSources": [
    {
     "databundleVersionId": 7170267,
     "sourceId": 65210,
     "sourceType": "competition"
    }
   ],
   "dockerImageVersionId": 30588,
   "isGpuEnabled": true,
   "isInternetEnabled": true,
   "language": "python",
   "sourceType": "notebook"
  },
  "kernelspec": {
   "display_name": "Python 3",
   "language": "python",
   "name": "python3"
  },
  "language_info": {
   "codemirror_mode": {
    "name": "ipython",
    "version": 3
   },
   "file_extension": ".py",
   "mimetype": "text/x-python",
   "name": "python",
   "nbconvert_exporter": "python",
   "pygments_lexer": "ipython3",
   "version": "3.10.12"
  },
  "papermill": {
   "default_parameters": {},
   "duration": 287.551329,
   "end_time": "2023-12-13T10:19:49.428501",
   "environment_variables": {},
   "exception": null,
   "input_path": "__notebook__.ipynb",
   "output_path": "__notebook__.ipynb",
   "parameters": {},
   "start_time": "2023-12-13T10:15:01.877172",
   "version": "2.4.0"
  }
 },
 "nbformat": 4,
 "nbformat_minor": 5
}
